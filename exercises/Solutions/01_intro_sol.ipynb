{
 "cells": [
  {
   "cell_type": "code",
   "execution_count": null,
   "metadata": {
    "collapsed": true
   },
   "outputs": [],
   "source": [
    "\"\"\"\n",
    "Solution to simple TensorFlow exercises\n",
    "For the problems \n",
    "\"\"\"\n",
    "\n",
    "import tensorflow as tf"
   ]
  },
  {
   "cell_type": "code",
   "execution_count": null,
   "metadata": {
    "collapsed": false
   },
   "outputs": [],
   "source": [
    "###############################################################################\n",
    "# 1a: Create two random 0-d tensors x and y of any distribution.\n",
    "# Create a TensorFlow object that returns x + y if x > y, and x - y otherwise.\n",
    "# Hint: look up tf.cond()\n",
    "###############################################################################\n",
    "\n",
    "x = tf.random_uniform([])  # Empty array as shape creates a scalar.\n",
    "y = tf.random_uniform([])\n",
    "out = tf.cond(tf.greater(x, y), lambda: tf.add(x, y), lambda: tf.subtract(x, y))\n",
    "\n",
    "with tf.Session() as sess:\n",
    "    print sess.run(out)"
   ]
  },
  {
   "cell_type": "code",
   "execution_count": null,
   "metadata": {
    "collapsed": false
   },
   "outputs": [],
   "source": [
    "###############################################################################\n",
    "# 1b: Create two 0-d tensors x and y randomly selected from -1 and 1.\n",
    "# Return x + y if x < y, x - y if x > y, 0 otherwise.\n",
    "# Hint: Look up tf.case().\n",
    "###############################################################################\n",
    "\n",
    "x = tf.random_uniform([], -1, 1, dtype=tf.float32)\n",
    "y = tf.random_uniform([], -1, 1, dtype=tf.float32)\n",
    "out = tf.case({tf.less(x, y): lambda: tf.add(x, y), \n",
    "               tf.greater(x, y): lambda: tf.subtract(x, y)}, \n",
    "               default=lambda: tf.constant(0.0), exclusive=True)\n",
    "\n",
    "with tf.Session() as sess:\n",
    "    print sess.run(out)"
   ]
  },
  {
   "cell_type": "code",
   "execution_count": null,
   "metadata": {
    "collapsed": false
   },
   "outputs": [],
   "source": [
    "###############################################################################\n",
    "# 1c: Create the tensor x of the value [[0, -2, -1], [0, 1, 2]] \n",
    "# and y as a tensor of zeros with the same shape as x.\n",
    "# Return a boolean tensor that yields Trues if x equals y element-wise.\n",
    "# Hint: Look up tf.equal().\n",
    "###############################################################################\n",
    "\n",
    "x = tf.constant([[0, -2, -1], [0, 1, 2]])\n",
    "y = tf.zeros_like(x)\n",
    "out = tf.equal(x, y)\n",
    "\n",
    "with tf.Session() as sess:\n",
    "    print sess.run(out)"
   ]
  },
  {
   "cell_type": "code",
   "execution_count": null,
   "metadata": {
    "collapsed": false
   },
   "outputs": [],
   "source": [
    "###############################################################################\n",
    "# 1d: Create the tensor x of value \n",
    "# [29.05088806,  27.61298943,  31.19073486,  29.35532951,\n",
    "#  30.97266006,  26.67541885,  38.08450317,  20.74983215,\n",
    "#  34.94445419,  34.45999146,  29.06485367,  36.01657104,\n",
    "#  27.88236427,  20.56035233,  30.20379066,  29.51215172,\n",
    "#  33.71149445,  28.59134293,  36.05556488,  28.66994858].\n",
    "# Get the indices of elements in x whose values are greater than 30.\n",
    "# Hint: Use tf.where().\n",
    "# Then extract elements whose values are greater than 30.\n",
    "# Hint: Use tf.gather().\n",
    "###############################################################################\n",
    "\n",
    "x = tf.constant([29.05088806,  27.61298943,  31.19073486,  29.35532951,\n",
    "                 30.97266006,  26.67541885,  38.08450317,  20.74983215,\n",
    "                 34.94445419,  34.45999146,  29.06485367,  36.01657104,\n",
    "                 27.88236427,  20.56035233,  30.20379066,  29.51215172,\n",
    "                 33.71149445,  28.59134293,  36.05556488,  28.66994858])\n",
    "indices = tf.where(x > 30)\n",
    "out = tf.gather(x, indices)\n",
    "\n",
    "with tf.Session() as sess:\n",
    "    print sess.run(out)"
   ]
  },
  {
   "cell_type": "code",
   "execution_count": null,
   "metadata": {
    "collapsed": false
   },
   "outputs": [],
   "source": [
    "###############################################################################\n",
    "# 1e: Create a diagnoal 2-d tensor of size 6 x 6 with the diagonal values of 1,\n",
    "# 2, ..., 6\n",
    "# Hint: Use tf.range() and tf.diag().\n",
    "###############################################################################\n",
    "\n",
    "values = tf.range(1, 7)\n",
    "out = tf.diag(values)\n",
    "\n",
    "with tf.Session() as sess:\n",
    "    print sess.run(out)"
   ]
  },
  {
   "cell_type": "code",
   "execution_count": null,
   "metadata": {
    "collapsed": false
   },
   "outputs": [],
   "source": [
    "###############################################################################\n",
    "# 1f: Create a random 2-d tensor of size 10 x 10 from any distribution.\n",
    "# Calculate its determinant.\n",
    "# Hint: Look at tf.matrix_determinant().\n",
    "###############################################################################\n",
    "\n",
    "m = tf.random_normal([10, 10], mean=10, stddev=1)\n",
    "out = tf.matrix_determinant(m)\n",
    "\n",
    "with tf.Session() as sess:\n",
    "    print sess.run(out)"
   ]
  },
  {
   "cell_type": "code",
   "execution_count": null,
   "metadata": {
    "collapsed": false
   },
   "outputs": [],
   "source": [
    "###############################################################################\n",
    "# 1g: Create tensor x with value [5, 2, 3, 5, 10, 6, 2, 3, 4, 2, 1, 1, 0, 9].\n",
    "# Return the unique elements in x\n",
    "# Hint: use tf.unique(). Keep in mind that tf.unique() returns a tuple.\n",
    "###############################################################################\n",
    "\n",
    "x = tf.constant([5, 2, 3, 5, 10, 6, 2, 3, 4, 2, 1, 1, 0, 9])\n",
    "unique_values, indices = tf.unique(x)\n",
    "\n",
    "with tf.Session() as sess:\n",
    "    print sess.run([unique_values,indices])"
   ]
  },
  {
   "cell_type": "code",
   "execution_count": null,
   "metadata": {
    "collapsed": false
   },
   "outputs": [],
   "source": [
    "###############################################################################\n",
    "# 1h: Create two tensors x and y of shape 300 from any normal distribution,\n",
    "# as long as they are from the same distribution.\n",
    "# Use tf.less() and tf.where() to return:\n",
    "# - The mean squared error of (x - y) if the average of all elements in (x - y)\n",
    "#   is negative, or\n",
    "# - The sum of absolute value of all elements in the tensor (x - y) otherwise.\n",
    "# Hint: see the Huber loss function in the lecture slides 3.\n",
    "###############################################################################\n",
    "\n",
    "x = tf.random_normal([300], mean=5, stddev=1)\n",
    "y = tf.random_normal([300], mean=5, stddev=1)\n",
    "average = tf.reduce_mean(x - y)\n",
    "condition = tf.less(average, 0)\n",
    "left_op = tf.reduce_mean(tf.square(x - y))\n",
    "right_op = tf.reduce_sum(tf.abs(x - y))\n",
    "out = tf.where(condition, left_op, right_op)\n",
    "\n",
    "with tf.Session() as sess:\n",
    "    print sess.run([out,left_op,right_op,condition,average])"
   ]
  }
 ],
 "metadata": {
  "kernelspec": {
   "display_name": "Python 2",
   "language": "python",
   "name": "python2"
  },
  "language_info": {
   "codemirror_mode": {
    "name": "ipython",
    "version": 2
   },
   "file_extension": ".py",
   "mimetype": "text/x-python",
   "name": "python",
   "nbconvert_exporter": "python",
   "pygments_lexer": "ipython2",
   "version": "2.7.6"
  }
 },
 "nbformat": 4,
 "nbformat_minor": 2
}
