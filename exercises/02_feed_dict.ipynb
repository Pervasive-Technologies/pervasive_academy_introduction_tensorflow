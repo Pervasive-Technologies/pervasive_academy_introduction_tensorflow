{
 "cells": [
  {
   "cell_type": "code",
   "execution_count": null,
   "metadata": {
    "collapsed": false,
    "deletable": true,
    "editable": true
   },
   "outputs": [],
   "source": [
    "\"\"\"\n",
    "Example to demonstrate the use of feed_dict\n",
    "\"\"\"\n",
    "import tensorflow as tf\n",
    "\n",
    "# Example 1: feed_dict with placeholder\n",
    "# create a placeholder of type float 32-bit, value is a vector of 3 elements\n",
    "a = tf.placeholder(tf.float32, shape=[3])\n",
    "\n",
    "# create a constant of type float 32-bit, value is a vector of 3 elements\n",
    "b = tf.constant([5, 5, 5], tf.float32)\n",
    "\n",
    "# use the placeholder as you would a constant\n",
    "c = a + b  # short for tf.add(a, b)\n",
    "\n",
    "with tf.Session() as sess:\n",
    "    print sess.run(c) # error because a doesn’t have any value\n",
    "\n",
    "    # feed [1, 2, 3] to placeholder a via the dict {a: [1, 2, 3]}\n",
    "    # fetch value of c\n",
    "    print sess.run(c, {a: [1, 2, 3]}) # >> [6. 7. 8.]\n"
   ]
  },
  {
   "cell_type": "code",
   "execution_count": null,
   "metadata": {
    "collapsed": true
   },
   "outputs": [],
   "source": [
    "# Example 2: feed_dict with variables\n",
    "a = tf.add(2, 5)\n",
    "b = tf.multiply(a, 3)\n",
    "\n",
    "with tf.Session() as sess:\n",
    "    # define a dictionary that says to replace the value of 'a' with 15\n",
    "    replace_dict = {a: 15}\n",
    "\n",
    "    # Run the session, passing in 'replace_dict' as the value to 'feed_dict'\n",
    "    sess.run(b, feed_dict=replace_dict) # >> 45"
   ]
  }
 ],
 "metadata": {
  "kernelspec": {
   "display_name": "Python 2",
   "language": "python",
   "name": "python2"
  },
  "language_info": {
   "codemirror_mode": {
    "name": "ipython",
    "version": 2
   },
   "file_extension": ".py",
   "mimetype": "text/x-python",
   "name": "python",
   "nbconvert_exporter": "python",
   "pygments_lexer": "ipython2",
   "version": "2.7.6"
  }
 },
 "nbformat": 4,
 "nbformat_minor": 2
}
